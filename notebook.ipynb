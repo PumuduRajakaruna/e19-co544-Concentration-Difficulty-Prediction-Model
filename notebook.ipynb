{
 "cells": [
  {
   "cell_type": "code",
   "execution_count": 24,
   "metadata": {},
   "outputs": [],
   "source": [
    "import matplotlib.pyplot as plt\n",
    "import numpy as np\n",
    "from sklearn.linear_model import LinearRegression\n",
    "import pandas as pd\n",
    "import seaborn as sns"
   ]
  },
  {
   "cell_type": "code",
   "execution_count": 4,
   "metadata": {},
   "outputs": [
    {
     "data": {
      "text/html": [
       "<div>\n",
       "<style scoped>\n",
       "    .dataframe tbody tr th:only-of-type {\n",
       "        vertical-align: middle;\n",
       "    }\n",
       "\n",
       "    .dataframe tbody tr th {\n",
       "        vertical-align: top;\n",
       "    }\n",
       "\n",
       "    .dataframe thead th {\n",
       "        text-align: right;\n",
       "    }\n",
       "</style>\n",
       "<table border=\"1\" class=\"dataframe\">\n",
       "  <thead>\n",
       "    <tr style=\"text-align: right;\">\n",
       "      <th></th>\n",
       "      <th>Timestamp</th>\n",
       "      <th>1. What is your age?</th>\n",
       "      <th>2. Gender</th>\n",
       "      <th>3. Relationship Status</th>\n",
       "      <th>4. Occupation Status</th>\n",
       "      <th>5. What type of organizations are you affiliated with?</th>\n",
       "      <th>6. Do you use social media?</th>\n",
       "      <th>7. What social media platforms do you commonly use?</th>\n",
       "      <th>8. What is the average time you spend on social media every day?</th>\n",
       "      <th>9. How often do you find yourself using Social media without a specific purpose?</th>\n",
       "      <th>...</th>\n",
       "      <th>11. Do you feel restless if you haven't used Social media in a while?</th>\n",
       "      <th>12. On a scale of 1 to 5, how easily distracted are you?</th>\n",
       "      <th>13. On a scale of 1 to 5, how much are you bothered by worries?</th>\n",
       "      <th>14. Do you find it difficult to concentrate on things?</th>\n",
       "      <th>15. On a scale of 1-5, how often do you compare yourself to other successful people through the use of social media?</th>\n",
       "      <th>16. Following the previous question, how do you feel about these comparisons, generally speaking?</th>\n",
       "      <th>17. How often do you look to seek validation from features of social media?</th>\n",
       "      <th>18. How often do you feel depressed or down?</th>\n",
       "      <th>19. On a scale of 1 to 5, how frequently does your interest in daily activities fluctuate?</th>\n",
       "      <th>20. On a scale of 1 to 5, how often do you face issues regarding sleep?</th>\n",
       "    </tr>\n",
       "  </thead>\n",
       "  <tbody>\n",
       "    <tr>\n",
       "      <th>0</th>\n",
       "      <td>4/18/2022 19:18:47</td>\n",
       "      <td>21.0</td>\n",
       "      <td>Male</td>\n",
       "      <td>In a relationship</td>\n",
       "      <td>University Student</td>\n",
       "      <td>University</td>\n",
       "      <td>Yes</td>\n",
       "      <td>Facebook, Twitter, Instagram, YouTube, Discord...</td>\n",
       "      <td>Between 2 and 3 hours</td>\n",
       "      <td>5</td>\n",
       "      <td>...</td>\n",
       "      <td>2</td>\n",
       "      <td>5</td>\n",
       "      <td>2</td>\n",
       "      <td>5</td>\n",
       "      <td>2</td>\n",
       "      <td>3</td>\n",
       "      <td>2</td>\n",
       "      <td>5</td>\n",
       "      <td>4</td>\n",
       "      <td>5</td>\n",
       "    </tr>\n",
       "    <tr>\n",
       "      <th>1</th>\n",
       "      <td>4/18/2022 19:19:28</td>\n",
       "      <td>21.0</td>\n",
       "      <td>Female</td>\n",
       "      <td>Single</td>\n",
       "      <td>University Student</td>\n",
       "      <td>University</td>\n",
       "      <td>Yes</td>\n",
       "      <td>Facebook, Twitter, Instagram, YouTube, Discord...</td>\n",
       "      <td>More than 5 hours</td>\n",
       "      <td>4</td>\n",
       "      <td>...</td>\n",
       "      <td>2</td>\n",
       "      <td>4</td>\n",
       "      <td>5</td>\n",
       "      <td>4</td>\n",
       "      <td>5</td>\n",
       "      <td>1</td>\n",
       "      <td>1</td>\n",
       "      <td>5</td>\n",
       "      <td>4</td>\n",
       "      <td>5</td>\n",
       "    </tr>\n",
       "    <tr>\n",
       "      <th>2</th>\n",
       "      <td>4/18/2022 19:25:59</td>\n",
       "      <td>21.0</td>\n",
       "      <td>Female</td>\n",
       "      <td>Single</td>\n",
       "      <td>University Student</td>\n",
       "      <td>University</td>\n",
       "      <td>Yes</td>\n",
       "      <td>Facebook, Instagram, YouTube, Pinterest</td>\n",
       "      <td>Between 3 and 4 hours</td>\n",
       "      <td>3</td>\n",
       "      <td>...</td>\n",
       "      <td>1</td>\n",
       "      <td>2</td>\n",
       "      <td>5</td>\n",
       "      <td>4</td>\n",
       "      <td>3</td>\n",
       "      <td>3</td>\n",
       "      <td>1</td>\n",
       "      <td>4</td>\n",
       "      <td>2</td>\n",
       "      <td>5</td>\n",
       "    </tr>\n",
       "    <tr>\n",
       "      <th>3</th>\n",
       "      <td>4/18/2022 19:29:43</td>\n",
       "      <td>21.0</td>\n",
       "      <td>Female</td>\n",
       "      <td>Single</td>\n",
       "      <td>University Student</td>\n",
       "      <td>University</td>\n",
       "      <td>Yes</td>\n",
       "      <td>Facebook, Instagram</td>\n",
       "      <td>More than 5 hours</td>\n",
       "      <td>4</td>\n",
       "      <td>...</td>\n",
       "      <td>1</td>\n",
       "      <td>3</td>\n",
       "      <td>5</td>\n",
       "      <td>3</td>\n",
       "      <td>5</td>\n",
       "      <td>1</td>\n",
       "      <td>2</td>\n",
       "      <td>4</td>\n",
       "      <td>3</td>\n",
       "      <td>2</td>\n",
       "    </tr>\n",
       "    <tr>\n",
       "      <th>4</th>\n",
       "      <td>4/18/2022 19:33:31</td>\n",
       "      <td>21.0</td>\n",
       "      <td>Female</td>\n",
       "      <td>Single</td>\n",
       "      <td>University Student</td>\n",
       "      <td>University</td>\n",
       "      <td>Yes</td>\n",
       "      <td>Facebook, Instagram, YouTube</td>\n",
       "      <td>Between 2 and 3 hours</td>\n",
       "      <td>3</td>\n",
       "      <td>...</td>\n",
       "      <td>4</td>\n",
       "      <td>4</td>\n",
       "      <td>5</td>\n",
       "      <td>5</td>\n",
       "      <td>3</td>\n",
       "      <td>3</td>\n",
       "      <td>3</td>\n",
       "      <td>4</td>\n",
       "      <td>4</td>\n",
       "      <td>1</td>\n",
       "    </tr>\n",
       "  </tbody>\n",
       "</table>\n",
       "<p>5 rows × 21 columns</p>\n",
       "</div>"
      ],
      "text/plain": [
       "            Timestamp  1. What is your age? 2. Gender 3. Relationship Status  \\\n",
       "0  4/18/2022 19:18:47                  21.0      Male      In a relationship   \n",
       "1  4/18/2022 19:19:28                  21.0    Female                 Single   \n",
       "2  4/18/2022 19:25:59                  21.0    Female                 Single   \n",
       "3  4/18/2022 19:29:43                  21.0    Female                 Single   \n",
       "4  4/18/2022 19:33:31                  21.0    Female                 Single   \n",
       "\n",
       "  4. Occupation Status 5. What type of organizations are you affiliated with?  \\\n",
       "0   University Student                                         University       \n",
       "1   University Student                                         University       \n",
       "2   University Student                                         University       \n",
       "3   University Student                                         University       \n",
       "4   University Student                                         University       \n",
       "\n",
       "  6. Do you use social media?  \\\n",
       "0                         Yes   \n",
       "1                         Yes   \n",
       "2                         Yes   \n",
       "3                         Yes   \n",
       "4                         Yes   \n",
       "\n",
       "  7. What social media platforms do you commonly use?  \\\n",
       "0  Facebook, Twitter, Instagram, YouTube, Discord...    \n",
       "1  Facebook, Twitter, Instagram, YouTube, Discord...    \n",
       "2            Facebook, Instagram, YouTube, Pinterest    \n",
       "3                                Facebook, Instagram    \n",
       "4                       Facebook, Instagram, YouTube    \n",
       "\n",
       "  8. What is the average time you spend on social media every day?  \\\n",
       "0                              Between 2 and 3 hours                 \n",
       "1                                  More than 5 hours                 \n",
       "2                              Between 3 and 4 hours                 \n",
       "3                                  More than 5 hours                 \n",
       "4                              Between 2 and 3 hours                 \n",
       "\n",
       "   9. How often do you find yourself using Social media without a specific purpose?  \\\n",
       "0                                                  5                                  \n",
       "1                                                  4                                  \n",
       "2                                                  3                                  \n",
       "3                                                  4                                  \n",
       "4                                                  3                                  \n",
       "\n",
       "   ...  11. Do you feel restless if you haven't used Social media in a while?  \\\n",
       "0  ...                                                  2                       \n",
       "1  ...                                                  2                       \n",
       "2  ...                                                  1                       \n",
       "3  ...                                                  1                       \n",
       "4  ...                                                  4                       \n",
       "\n",
       "   12. On a scale of 1 to 5, how easily distracted are you?  \\\n",
       "0                                                  5          \n",
       "1                                                  4          \n",
       "2                                                  2          \n",
       "3                                                  3          \n",
       "4                                                  4          \n",
       "\n",
       "   13. On a scale of 1 to 5, how much are you bothered by worries?  \\\n",
       "0                                                  2                 \n",
       "1                                                  5                 \n",
       "2                                                  5                 \n",
       "3                                                  5                 \n",
       "4                                                  5                 \n",
       "\n",
       "   14. Do you find it difficult to concentrate on things?  \\\n",
       "0                                                  5        \n",
       "1                                                  4        \n",
       "2                                                  4        \n",
       "3                                                  3        \n",
       "4                                                  5        \n",
       "\n",
       "   15. On a scale of 1-5, how often do you compare yourself to other successful people through the use of social media?  \\\n",
       "0                                                  2                                                                      \n",
       "1                                                  5                                                                      \n",
       "2                                                  3                                                                      \n",
       "3                                                  5                                                                      \n",
       "4                                                  3                                                                      \n",
       "\n",
       "   16. Following the previous question, how do you feel about these comparisons, generally speaking?  \\\n",
       "0                                                  3                                                   \n",
       "1                                                  1                                                   \n",
       "2                                                  3                                                   \n",
       "3                                                  1                                                   \n",
       "4                                                  3                                                   \n",
       "\n",
       "   17. How often do you look to seek validation from features of social media?  \\\n",
       "0                                                  2                             \n",
       "1                                                  1                             \n",
       "2                                                  1                             \n",
       "3                                                  2                             \n",
       "4                                                  3                             \n",
       "\n",
       "   18. How often do you feel depressed or down?  \\\n",
       "0                                             5   \n",
       "1                                             5   \n",
       "2                                             4   \n",
       "3                                             4   \n",
       "4                                             4   \n",
       "\n",
       "   19. On a scale of 1 to 5, how frequently does your interest in daily activities fluctuate?  \\\n",
       "0                                                  4                                            \n",
       "1                                                  4                                            \n",
       "2                                                  2                                            \n",
       "3                                                  3                                            \n",
       "4                                                  4                                            \n",
       "\n",
       "   20. On a scale of 1 to 5, how often do you face issues regarding sleep?  \n",
       "0                                                  5                        \n",
       "1                                                  5                        \n",
       "2                                                  5                        \n",
       "3                                                  2                        \n",
       "4                                                  1                        \n",
       "\n",
       "[5 rows x 21 columns]"
      ]
     },
     "execution_count": 4,
     "metadata": {},
     "output_type": "execute_result"
    }
   ],
   "source": [
    "data = pd.read_csv('data_set.csv')\n",
    "data.head()"
   ]
  },
  {
   "cell_type": "code",
   "execution_count": 5,
   "metadata": {},
   "outputs": [
    {
     "data": {
      "text/plain": [
       "['Timestamp',\n",
       " '1. What is your age?',\n",
       " '2. Gender',\n",
       " '3. Relationship Status',\n",
       " '4. Occupation Status',\n",
       " '5. What type of organizations are you affiliated with?',\n",
       " '6. Do you use social media?',\n",
       " '7. What social media platforms do you commonly use?',\n",
       " '8. What is the average time you spend on social media every day?',\n",
       " '9. How often do you find yourself using Social media without a specific purpose?',\n",
       " '10. How often do you get distracted by Social media when you are busy doing something?',\n",
       " \"11. Do you feel restless if you haven't used Social media in a while?\",\n",
       " '12. On a scale of 1 to 5, how easily distracted are you?',\n",
       " '13. On a scale of 1 to 5, how much are you bothered by worries?',\n",
       " '14. Do you find it difficult to concentrate on things?',\n",
       " '15. On a scale of 1-5, how often do you compare yourself to other successful people through the use of social media?',\n",
       " '16. Following the previous question, how do you feel about these comparisons, generally speaking?',\n",
       " '17. How often do you look to seek validation from features of social media?',\n",
       " '18. How often do you feel depressed or down?',\n",
       " '19. On a scale of 1 to 5, how frequently does your interest in daily activities fluctuate?',\n",
       " '20. On a scale of 1 to 5, how often do you face issues regarding sleep?']"
      ]
     },
     "execution_count": 5,
     "metadata": {},
     "output_type": "execute_result"
    }
   ],
   "source": [
    "titles = list(data.columns)\n",
    "titles"
   ]
  },
  {
   "cell_type": "markdown",
   "metadata": {},
   "source": [
    "#### Renaming Columns "
   ]
  },
  {
   "cell_type": "code",
   "execution_count": 6,
   "metadata": {},
   "outputs": [],
   "source": [
    "data.rename(columns = {'1. What is your age?':'Age',\n",
    "                       '2. Gender':'Sex',\n",
    "                       '3. Relationship Status':'Relationship Status',\n",
    "                       '4. Occupation Status':'Occupation',\n",
    "                       '5. What type of organizations are you affiliated with?':'Affiliations',\n",
    "                       '6. Do you use social media?':'Social Media User?',\n",
    "                       '7. What social media platforms do you commonly use?':'Platforms Used',\n",
    "                       '8. What is the average time you spend on social media every day?':'Time Spent',\n",
    "                       '9. How often do you find yourself using Social media without a specific purpose?':'ADHD Q1',\n",
    "                       '10. How often do you get distracted by Social media when you are busy doing something?':'ADHD Q2',\n",
    "                       \"11. Do you feel restless if you haven't used Social media in a while?\":'Anxiety Q1',\n",
    "                       '12. On a scale of 1 to 5, how easily distracted are you?':'ADHD Q3',\n",
    "                       '13. On a scale of 1 to 5, how much are you bothered by worries?':'Anxiety Q2',\n",
    "                       '14. Do you find it difficult to concentrate on things?':'ADHD Q4',\n",
    "                       '15. On a scale of 1-5, how often do you compare yourself to other successful people through the use of social media?':'Self Esteem Q1',\n",
    "                       '16. Following the previous question, how do you feel about these comparisons, generally speaking?':'Self Esteem Q2',\n",
    "                       '17. How often do you look to seek validation from features of social media?':'Self Esteem Q3',\n",
    "                       '18. How often do you feel depressed or down?':'Depression Q1',\n",
    "                       '19. On a scale of 1 to 5, how frequently does your interest in daily activities fluctuate?':'Depression Q2',\n",
    "                       '20. On a scale of 1 to 5, how often do you face issues regarding sleep?':'Depression Q3' },inplace=True)"
   ]
  },
  {
   "cell_type": "code",
   "execution_count": 7,
   "metadata": {},
   "outputs": [
    {
     "data": {
      "text/plain": [
       "['Timestamp',\n",
       " 'Age',\n",
       " 'Sex',\n",
       " 'Relationship Status',\n",
       " 'Occupation',\n",
       " 'Affiliations',\n",
       " 'Social Media User?',\n",
       " 'Platforms Used',\n",
       " 'Time Spent',\n",
       " 'ADHD Q1',\n",
       " 'ADHD Q2',\n",
       " 'Anxiety Q1',\n",
       " 'ADHD Q3',\n",
       " 'Anxiety Q2',\n",
       " 'ADHD Q4',\n",
       " 'Self Esteem Q1',\n",
       " 'Self Esteem Q2',\n",
       " 'Self Esteem Q3',\n",
       " 'Depression Q1',\n",
       " 'Depression Q2',\n",
       " 'Depression Q3']"
      ]
     },
     "execution_count": 7,
     "metadata": {},
     "output_type": "execute_result"
    }
   ],
   "source": [
    "titles = list(data.columns)\n",
    "titles"
   ]
  },
  {
   "cell_type": "code",
   "execution_count": 8,
   "metadata": {},
   "outputs": [
    {
     "data": {
      "text/plain": [
       "['Timestamp',\n",
       " 'Age',\n",
       " 'Sex',\n",
       " 'Relationship Status',\n",
       " 'Occupation',\n",
       " 'Affiliations',\n",
       " 'Social Media User?',\n",
       " 'Platforms Used',\n",
       " 'Time Spent',\n",
       " 'ADHD Q1',\n",
       " 'ADHD Q2',\n",
       " 'ADHD Q3',\n",
       " 'ADHD Q4',\n",
       " 'Anxiety Q1',\n",
       " 'Anxiety Q2',\n",
       " 'Self Esteem Q1',\n",
       " 'Self Esteem Q2',\n",
       " 'Self Esteem Q3',\n",
       " 'Depression Q1',\n",
       " 'Depression Q2',\n",
       " 'Depression Q3']"
      ]
     },
     "execution_count": 8,
     "metadata": {},
     "output_type": "execute_result"
    }
   ],
   "source": [
    "titles[11], titles[12] = titles[12], titles[11]\n",
    "titles[12], titles[14] = titles[14], titles[12]\n",
    "titles[13], titles[14] = titles[14], titles[13]\n",
    "data = data[titles]\n",
    "titles"
   ]
  },
  {
   "cell_type": "markdown",
   "metadata": {},
   "source": [
    "#### Missing Value Detection and Treatment"
   ]
  },
  {
   "cell_type": "code",
   "execution_count": 9,
   "metadata": {},
   "outputs": [
    {
     "name": "stdout",
     "output_type": "stream",
     "text": [
      "<class 'pandas.core.frame.DataFrame'>\n",
      "RangeIndex: 481 entries, 0 to 480\n",
      "Data columns (total 21 columns):\n",
      " #   Column               Non-Null Count  Dtype  \n",
      "---  ------               --------------  -----  \n",
      " 0   Timestamp            481 non-null    object \n",
      " 1   Age                  481 non-null    float64\n",
      " 2   Sex                  481 non-null    object \n",
      " 3   Relationship Status  481 non-null    object \n",
      " 4   Occupation           481 non-null    object \n",
      " 5   Affiliations         451 non-null    object \n",
      " 6   Social Media User?   481 non-null    object \n",
      " 7   Platforms Used       481 non-null    object \n",
      " 8   Time Spent           481 non-null    object \n",
      " 9   ADHD Q1              481 non-null    int64  \n",
      " 10  ADHD Q2              481 non-null    int64  \n",
      " 11  ADHD Q3              481 non-null    int64  \n",
      " 12  ADHD Q4              481 non-null    int64  \n",
      " 13  Anxiety Q1           481 non-null    int64  \n",
      " 14  Anxiety Q2           481 non-null    int64  \n",
      " 15  Self Esteem Q1       481 non-null    int64  \n",
      " 16  Self Esteem Q2       481 non-null    int64  \n",
      " 17  Self Esteem Q3       481 non-null    int64  \n",
      " 18  Depression Q1        481 non-null    int64  \n",
      " 19  Depression Q2        481 non-null    int64  \n",
      " 20  Depression Q3        481 non-null    int64  \n",
      "dtypes: float64(1), int64(12), object(8)\n",
      "memory usage: 79.0+ KB\n"
     ]
    }
   ],
   "source": [
    "# Check number of records in each column of the data set. \n",
    "data.info()"
   ]
  },
  {
   "cell_type": "markdown",
   "metadata": {},
   "source": [
    "There are no missing values as expected"
   ]
  },
  {
   "cell_type": "markdown",
   "metadata": {},
   "source": [
    "#### Data Transformation"
   ]
  },
  {
   "cell_type": "markdown",
   "metadata": {},
   "source": [
    "Gender"
   ]
  },
  {
   "cell_type": "code",
   "execution_count": 10,
   "metadata": {},
   "outputs": [
    {
     "name": "stdout",
     "output_type": "stream",
     "text": [
      "{'Non binary ', 'Trans', 'NB', 'Nonbinary ', 'There are others???', 'Female', 'Non-binary', 'Male', 'unsure '}\n"
     ]
    }
   ],
   "source": [
    "#List all the unique Gender/Sex entries.\n",
    "\n",
    "Genders = set(data['Sex'])\n",
    "print(Genders)"
   ]
  },
  {
   "cell_type": "markdown",
   "metadata": {},
   "source": [
    "Responses stating \"There are others???\" will be disregarded as they indicate a lack of seriousness in completing the questionnaire. Therefore, entries containing this response will be excluded from consideration."
   ]
  },
  {
   "cell_type": "code",
   "execution_count": 11,
   "metadata": {},
   "outputs": [],
   "source": [
    "data.drop(data.loc[data['Sex'] =='There are others???'].index, inplace=True)"
   ]
  },
  {
   "cell_type": "code",
   "execution_count": 12,
   "metadata": {},
   "outputs": [
    {
     "name": "stdout",
     "output_type": "stream",
     "text": [
      "{'Non binary ', 'Trans', 'NB', 'Nonbinary ', 'Female', 'Non-binary', 'Male', 'unsure '}\n"
     ]
    }
   ],
   "source": [
    "Genders = set(data['Sex'])\n",
    "print(Genders)"
   ]
  },
  {
   "cell_type": "markdown",
   "metadata": {},
   "source": [
    "There are numerous diverse entries in the Gender section, many of which could be categorized as \"Others.\" This variety likely arose due to the open-ended nature of allowing users to select \"Others\" in the Gender section of the questionnaire."
   ]
  },
  {
   "cell_type": "code",
   "execution_count": 13,
   "metadata": {},
   "outputs": [],
   "source": [
    "#Combining the unique entries that all fall under the \"Others\" category\n",
    "data.replace('Non-binary','Others', inplace=True)\n",
    "data.replace('Nonbinary ','Others', inplace=True)\n",
    "data.replace('NB','Others', inplace=True)\n",
    "data.replace('unsure ','Others', inplace=True)\n",
    "data.replace('Non binary ','Others', inplace=True)\n",
    "data.replace('Trans','Others', inplace=True)"
   ]
  },
  {
   "cell_type": "code",
   "execution_count": 14,
   "metadata": {},
   "outputs": [
    {
     "name": "stdout",
     "output_type": "stream",
     "text": [
      "{'Female', 'Others', 'Male'}\n"
     ]
    }
   ],
   "source": [
    "Genders = set(data['Sex'])\n",
    "print(Genders)"
   ]
  },
  {
   "cell_type": "code",
   "execution_count": 15,
   "metadata": {},
   "outputs": [
    {
     "name": "stdout",
     "output_type": "stream",
     "text": [
      "<class 'pandas.core.frame.DataFrame'>\n",
      "Index: 480 entries, 0 to 480\n",
      "Data columns (total 21 columns):\n",
      " #   Column               Non-Null Count  Dtype  \n",
      "---  ------               --------------  -----  \n",
      " 0   Timestamp            480 non-null    object \n",
      " 1   Age                  480 non-null    float64\n",
      " 2   Sex                  480 non-null    object \n",
      " 3   Relationship Status  480 non-null    object \n",
      " 4   Occupation           480 non-null    object \n",
      " 5   Affiliations         450 non-null    object \n",
      " 6   Social Media User?   480 non-null    object \n",
      " 7   Platforms Used       480 non-null    object \n",
      " 8   Time Spent           480 non-null    object \n",
      " 9   ADHD Q1              480 non-null    int64  \n",
      " 10  ADHD Q2              480 non-null    int64  \n",
      " 11  ADHD Q3              480 non-null    int64  \n",
      " 12  ADHD Q4              480 non-null    int64  \n",
      " 13  Anxiety Q1           480 non-null    int64  \n",
      " 14  Anxiety Q2           480 non-null    int64  \n",
      " 15  Self Esteem Q1       480 non-null    int64  \n",
      " 16  Self Esteem Q2       480 non-null    int64  \n",
      " 17  Self Esteem Q3       480 non-null    int64  \n",
      " 18  Depression Q1        480 non-null    int64  \n",
      " 19  Depression Q2        480 non-null    int64  \n",
      " 20  Depression Q3        480 non-null    int64  \n",
      "dtypes: float64(1), int64(12), object(8)\n",
      "memory usage: 82.5+ KB\n"
     ]
    }
   ],
   "source": [
    "data.info()\n"
   ]
  },
  {
   "cell_type": "markdown",
   "metadata": {},
   "source": [
    "Age"
   ]
  },
  {
   "cell_type": "markdown",
   "metadata": {},
   "source": [
    "Note that 'Age' is erroneously detected as float64 value in the above section. This is because of the single data record # 382. We should thus convert the 'Age' column to int64 type"
   ]
  },
  {
   "cell_type": "code",
   "execution_count": 16,
   "metadata": {},
   "outputs": [
    {
     "data": {
      "text/plain": [
       "26.7"
      ]
     },
     "execution_count": 16,
     "metadata": {},
     "output_type": "execute_result"
    }
   ],
   "source": [
    "#Showing the age entry of record #382\n",
    "data.loc[382,'Age']"
   ]
  },
  {
   "cell_type": "code",
   "execution_count": 17,
   "metadata": {},
   "outputs": [],
   "source": [
    "#Converting Age from float64 to int64 and displaying record # 382\n",
    "data['Age'] = data['Age'].astype('int64')"
   ]
  },
  {
   "cell_type": "code",
   "execution_count": 18,
   "metadata": {},
   "outputs": [
    {
     "name": "stdout",
     "output_type": "stream",
     "text": [
      "<class 'pandas.core.frame.DataFrame'>\n",
      "Index: 480 entries, 0 to 480\n",
      "Data columns (total 21 columns):\n",
      " #   Column               Non-Null Count  Dtype \n",
      "---  ------               --------------  ----- \n",
      " 0   Timestamp            480 non-null    object\n",
      " 1   Age                  480 non-null    int64 \n",
      " 2   Sex                  480 non-null    object\n",
      " 3   Relationship Status  480 non-null    object\n",
      " 4   Occupation           480 non-null    object\n",
      " 5   Affiliations         450 non-null    object\n",
      " 6   Social Media User?   480 non-null    object\n",
      " 7   Platforms Used       480 non-null    object\n",
      " 8   Time Spent           480 non-null    object\n",
      " 9   ADHD Q1              480 non-null    int64 \n",
      " 10  ADHD Q2              480 non-null    int64 \n",
      " 11  ADHD Q3              480 non-null    int64 \n",
      " 12  ADHD Q4              480 non-null    int64 \n",
      " 13  Anxiety Q1           480 non-null    int64 \n",
      " 14  Anxiety Q2           480 non-null    int64 \n",
      " 15  Self Esteem Q1       480 non-null    int64 \n",
      " 16  Self Esteem Q2       480 non-null    int64 \n",
      " 17  Self Esteem Q3       480 non-null    int64 \n",
      " 18  Depression Q1        480 non-null    int64 \n",
      " 19  Depression Q2        480 non-null    int64 \n",
      " 20  Depression Q3        480 non-null    int64 \n",
      "dtypes: int64(13), object(8)\n",
      "memory usage: 98.7+ KB\n"
     ]
    }
   ],
   "source": [
    "#float64 changed to int32\n",
    "data.info()"
   ]
  },
  {
   "cell_type": "markdown",
   "metadata": {},
   "source": [
    "#### Data Visualisation"
   ]
  },
  {
   "cell_type": "markdown",
   "metadata": {},
   "source": [
    "To begin, let's examine the data distribution concerning the time spent on social media for 471 participants."
   ]
  },
  {
   "cell_type": "code",
   "execution_count": 19,
   "metadata": {},
   "outputs": [
    {
     "data": {
      "text/plain": [
       "<Axes: xlabel='Time Spent on Social Media', ylabel='Frequency'>"
      ]
     },
     "execution_count": 19,
     "metadata": {},
     "output_type": "execute_result"
    },
    {
     "data": {
      "image/png": "[encoded data removed]",
      "text/plain": [
       "<Figure size 640x480 with 1 Axes>"
      ]
     },
     "metadata": {},
     "output_type": "display_data"
    }
   ],
   "source": [
    "data.groupby('Time Spent').size().plot.bar(xlabel='Time Spent on Social Media', ylabel='Frequency')"
   ]
  },
  {
   "cell_type": "code",
   "execution_count": 25,
   "metadata": {},
   "outputs": [
    {
     "data": {
      "image/png": "[encoded data removed]",
      "text/plain": [
       "<Figure size 640x480 with 1 Axes>"
      ]
     },
     "metadata": {},
     "output_type": "display_data"
    }
   ],
   "source": [
    "# Let's understand the distribution of data for 473 participants based on their Gender.\n",
    "\n",
    "total=float(len(data))\n",
    "ax = sns.countplot(x=\"Sex\", data=data) \n",
    "for p in ax.patches:\n",
    "    height = p.get_height()\n",
    "    ax.text(p.get_x()+p.get_width()/2,height + 3,'{0:.0%}'.format(height/total),ha=\"center\")"
   ]
  },
  {
   "cell_type": "code",
   "execution_count": 28,
   "metadata": {},
   "outputs": [
    {
     "data": {
      "image/png": "[encoded data removed]",
      "text/plain": [
       "<Figure size 640x480 with 1 Axes>"
      ]
     },
     "metadata": {},
     "output_type": "display_data"
    }
   ],
   "source": [
    "# Let's understand the distribution of data for 471 participants based on their Occupation.\n",
    "total=float(len(data))\n",
    "ax = sns.countplot(x=\"Occupation\", data=data) \n",
    "for p in ax.patches:\n",
    "    height = p.get_height()\n",
    "    ax.text(p.get_x()+p.get_width()/2,height + 3,'{0:.0%}'.format(height/total),ha=\"center\")"
   ]
  },
  {
   "cell_type": "code",
   "execution_count": null,
   "metadata": {},
   "outputs": [],
   "source": []
  }
 ],
 "metadata": {
  "kernelspec": {
   "display_name": "Python 3",
   "language": "python",
   "name": "python3"
  },
  "language_info": {
   "codemirror_mode": {
    "name": "ipython",
    "version": 3
   },
   "file_extension": ".py",
   "mimetype": "text/x-python",
   "name": "python",
   "nbconvert_exporter": "python",
   "pygments_lexer": "ipython3",
   "version": "3.12.1"
  }
 },
 "nbformat": 4,
 "nbformat_minor": 2
}
